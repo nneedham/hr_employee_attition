{
 "cells": [
  {
   "cell_type": "markdown",
   "metadata": {},
   "source": [
    "# HR Employee Attrition"
   ]
  },
  {
   "cell_type": "markdown",
   "metadata": {},
   "source": [
    "## Motivation\n",
    "Attrition is a key factor for any HR organization. Research shows that increased talent retention is associated with increased productivity while lower attrition rates are associated with higher sales and financial performance. Additionally, attrition directly impacts the bottom line as researchers have shown that the cost to replace a single worker ranges from 93% to 200% of their annual salary. Combined, this research indicates how important it is for an organization to be able to predict which of their employees will attrit. "
   ]
  },
  {
   "cell_type": "markdown",
   "metadata": {},
   "source": [
    "## Guide\n",
    "To better understand and predict attrition for this organization we will follow these steps:\n",
    "1. Data Cleaning\n",
    "2. Exploratory Data Analysis\n",
    "3. Feature Engineering\n",
    "4. Model Building\n",
    "5. Production and Conclusion"
   ]
  },
  {
   "cell_type": "markdown",
   "metadata": {},
   "source": [
    "## Data Cleaning\n",
    "We will start by loading the data and then looking at it"
   ]
  },
  {
   "cell_type": "code",
   "execution_count": null,
   "metadata": {},
   "outputs": [],
   "source": [
    "import pandas as pd\n",
    "\n"
   ]
  }
 ],
 "metadata": {
  "kernelspec": {
   "display_name": "Python 3",
   "language": "python",
   "name": "python3"
  },
  "language_info": {
   "codemirror_mode": {
    "name": "ipython",
    "version": 3
   },
   "file_extension": ".py",
   "mimetype": "text/x-python",
   "name": "python",
   "nbconvert_exporter": "python",
   "pygments_lexer": "ipython3",
   "version": "3.7.6"
  }
 },
 "nbformat": 4,
 "nbformat_minor": 4
}
